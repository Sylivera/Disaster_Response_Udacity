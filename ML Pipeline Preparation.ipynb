{
 "cells": [
  {
   "cell_type": "markdown",
   "metadata": {},
   "source": [
    "# ML Pipeline Preparation\n",
    "Follow the instructions below to help you create your ML pipeline.\n",
    "### 1. Import libraries and load data from database.\n",
    "- Import Python libraries\n",
    "- Load dataset from database with [`read_sql_table`](https://pandas.pydata.org/pandas-docs/stable/generated/pandas.read_sql_table.html)\n",
    "- Define feature and target variables X and Y"
   ]
  },
  {
   "cell_type": "code",
   "execution_count": 2,
   "metadata": {},
   "outputs": [
    {
     "name": "stderr",
     "output_type": "stream",
     "text": [
      "[nltk_data] Downloading package punkt to /home/masss001/nltk_data...\n",
      "[nltk_data]   Package punkt is already up-to-date!\n",
      "[nltk_data] Downloading package wordnet to /home/masss001/nltk_data...\n",
      "[nltk_data]   Package wordnet is already up-to-date!\n",
      "[nltk_data] Downloading package stopwords to\n",
      "[nltk_data]     /home/masss001/nltk_data...\n",
      "[nltk_data]   Package stopwords is already up-to-date!\n"
     ]
    }
   ],
   "source": [
    "# import libraries\n",
    "\n",
    "import pandas as pd\n",
    "from sqlalchemy import create_engine\n",
    "import re\n",
    "import nltk\n",
    "nltk.download(['punkt', 'wordnet', 'stopwords'])\n",
    "from nltk.tokenize import word_tokenize\n",
    "from nltk.stem import WordNetLemmatizer\n",
    "from sklearn.pipeline import Pipeline\n",
    "from sklearn.feature_extraction.text import CountVectorizer, TfidfTransformer\n",
    "from sklearn.multioutput import MultiOutputClassifier\n",
    "from sklearn.ensemble import RandomForestClassifier\n",
    "from sklearn.model_selection import train_test_split, GridSearchCV\n",
    "from sklearn.metrics import classification_report\n",
    "import pickle"
   ]
  },
  {
   "cell_type": "code",
   "execution_count": 2,
   "metadata": {},
   "outputs": [
    {
     "name": "stdout",
     "output_type": "stream",
     "text": [
      "Python 3.11.9\r\n"
     ]
    }
   ],
   "source": [
    "!python --version"
   ]
  },
  {
   "cell_type": "code",
   "execution_count": 3,
   "metadata": {},
   "outputs": [
    {
     "data": {
      "text/html": [
       "<div>\n",
       "<style scoped>\n",
       "    .dataframe tbody tr th:only-of-type {\n",
       "        vertical-align: middle;\n",
       "    }\n",
       "\n",
       "    .dataframe tbody tr th {\n",
       "        vertical-align: top;\n",
       "    }\n",
       "\n",
       "    .dataframe thead th {\n",
       "        text-align: right;\n",
       "    }\n",
       "</style>\n",
       "<table border=\"1\" class=\"dataframe\">\n",
       "  <thead>\n",
       "    <tr style=\"text-align: right;\">\n",
       "      <th></th>\n",
       "      <th>id</th>\n",
       "      <th>message</th>\n",
       "      <th>original</th>\n",
       "      <th>genre</th>\n",
       "      <th>related</th>\n",
       "      <th>request</th>\n",
       "      <th>offer</th>\n",
       "      <th>aid_related</th>\n",
       "      <th>medical_help</th>\n",
       "      <th>medical_products</th>\n",
       "      <th>...</th>\n",
       "      <th>aid_centers</th>\n",
       "      <th>other_infrastructure</th>\n",
       "      <th>weather_related</th>\n",
       "      <th>floods</th>\n",
       "      <th>storm</th>\n",
       "      <th>fire</th>\n",
       "      <th>earthquake</th>\n",
       "      <th>cold</th>\n",
       "      <th>other_weather</th>\n",
       "      <th>direct_report</th>\n",
       "    </tr>\n",
       "  </thead>\n",
       "  <tbody>\n",
       "    <tr>\n",
       "      <th>0</th>\n",
       "      <td>2</td>\n",
       "      <td>Weather update - a cold front from Cuba that c...</td>\n",
       "      <td>Un front froid se retrouve sur Cuba ce matin. ...</td>\n",
       "      <td>direct</td>\n",
       "      <td>related-1</td>\n",
       "      <td>request-0</td>\n",
       "      <td>offer-0</td>\n",
       "      <td>aid_related-0</td>\n",
       "      <td>medical_help-0</td>\n",
       "      <td>medical_products-0</td>\n",
       "      <td>...</td>\n",
       "      <td>aid_centers-0</td>\n",
       "      <td>other_infrastructure-0</td>\n",
       "      <td>weather_related-0</td>\n",
       "      <td>floods-0</td>\n",
       "      <td>storm-0</td>\n",
       "      <td>fire-0</td>\n",
       "      <td>earthquake-0</td>\n",
       "      <td>cold-0</td>\n",
       "      <td>other_weather-0</td>\n",
       "      <td>direct_report-0</td>\n",
       "    </tr>\n",
       "    <tr>\n",
       "      <th>1</th>\n",
       "      <td>7</td>\n",
       "      <td>Is the Hurricane over or is it not over</td>\n",
       "      <td>Cyclone nan fini osinon li pa fini</td>\n",
       "      <td>direct</td>\n",
       "      <td>related-1</td>\n",
       "      <td>request-0</td>\n",
       "      <td>offer-0</td>\n",
       "      <td>aid_related-1</td>\n",
       "      <td>medical_help-0</td>\n",
       "      <td>medical_products-0</td>\n",
       "      <td>...</td>\n",
       "      <td>aid_centers-0</td>\n",
       "      <td>other_infrastructure-0</td>\n",
       "      <td>weather_related-1</td>\n",
       "      <td>floods-0</td>\n",
       "      <td>storm-1</td>\n",
       "      <td>fire-0</td>\n",
       "      <td>earthquake-0</td>\n",
       "      <td>cold-0</td>\n",
       "      <td>other_weather-0</td>\n",
       "      <td>direct_report-0</td>\n",
       "    </tr>\n",
       "  </tbody>\n",
       "</table>\n",
       "<p>2 rows × 40 columns</p>\n",
       "</div>"
      ],
      "text/plain": [
       "   id                                            message  \\\n",
       "0   2  Weather update - a cold front from Cuba that c...   \n",
       "1   7            Is the Hurricane over or is it not over   \n",
       "\n",
       "                                            original   genre    related  \\\n",
       "0  Un front froid se retrouve sur Cuba ce matin. ...  direct  related-1   \n",
       "1                 Cyclone nan fini osinon li pa fini  direct  related-1   \n",
       "\n",
       "     request    offer    aid_related    medical_help    medical_products  ...  \\\n",
       "0  request-0  offer-0  aid_related-0  medical_help-0  medical_products-0  ...   \n",
       "1  request-0  offer-0  aid_related-1  medical_help-0  medical_products-0  ...   \n",
       "\n",
       "     aid_centers    other_infrastructure    weather_related    floods  \\\n",
       "0  aid_centers-0  other_infrastructure-0  weather_related-0  floods-0   \n",
       "1  aid_centers-0  other_infrastructure-0  weather_related-1  floods-0   \n",
       "\n",
       "     storm    fire    earthquake    cold    other_weather    direct_report  \n",
       "0  storm-0  fire-0  earthquake-0  cold-0  other_weather-0  direct_report-0  \n",
       "1  storm-1  fire-0  earthquake-0  cold-0  other_weather-0  direct_report-0  \n",
       "\n",
       "[2 rows x 40 columns]"
      ]
     },
     "execution_count": 3,
     "metadata": {},
     "output_type": "execute_result"
    }
   ],
   "source": [
    "# load data from database\n",
    "engine = create_engine('sqlite:///DisasterResponse.db')\n",
    "# Define the path to the database file\n",
    "db_path = \"data/DisasterResponse.db\"\n",
    "\n",
    "# Create a SQLAlchemy engine to connect to the SQLite database\n",
    "engine = create_engine(f'sqlite:///{db_path}')\n",
    "# connection = engine.raw_connection()\n",
    "\n",
    "# Retrieve data from the \"WB_disaster_messages\" table in the database\n",
    "# df = pd.read_sql(\"DisasterResponse\", con=engine)\n",
    "query = \"SELECT * FROM DisasterResponse;\"\n",
    "df = pd.read_sql(query, engine)\n",
    "df.head(2)"
   ]
  },
  {
   "cell_type": "markdown",
   "metadata": {},
   "source": [
    "### 2. Write a tokenization function to process your text data"
   ]
  },
  {
   "cell_type": "code",
   "execution_count": null,
   "metadata": {},
   "outputs": [],
   "source": [
    "def tokenize(text):\n",
    "    pass"
   ]
  },
  {
   "cell_type": "code",
   "execution_count": 13,
   "metadata": {},
   "outputs": [
    {
     "name": "stdout",
     "output_type": "stream",
     "text": [
      "['hello', 'world', 'test', 'text', 'tokenize']\n"
     ]
    },
    {
     "name": "stderr",
     "output_type": "stream",
     "text": [
      "[nltk_data] Downloading package punkt to /home/masss001/nltk_data...\n",
      "[nltk_data]   Package punkt is already up-to-date!\n",
      "[nltk_data] Downloading package stopwords to\n",
      "[nltk_data]     /home/masss001/nltk_data...\n",
      "[nltk_data]   Package stopwords is already up-to-date!\n"
     ]
    }
   ],
   "source": [
    "import nltk\n",
    "from nltk.tokenize import word_tokenize\n",
    "from nltk.corpus import stopwords\n",
    "import string\n",
    "\n",
    "# Download necessary NLTK data\n",
    "nltk.download('punkt')\n",
    "nltk.download('stopwords')\n",
    "\n",
    "def tokenize_(text):\n",
    "    \"\"\"\n",
    "    Tokenize and process the text data.\n",
    "\n",
    "    Parameters:\n",
    "    text (str): The text data to tokenize.\n",
    "\n",
    "    Returns:\n",
    "    list: The list of processed tokens.\n",
    "    \"\"\"\n",
    "    # Tokenize the text\n",
    "    tokens = word_tokenize(text)\n",
    "    \n",
    "    # Convert to lower case\n",
    "    tokens = [word.lower() for word in tokens]\n",
    "    \n",
    "    # Remove punctuation\n",
    "    tokens = [word for word in tokens if word.isalpha()]\n",
    "    \n",
    "    # Remove stopwords\n",
    "    stop_words = set(stopwords.words('english'))\n",
    "    tokens = [word for word in tokens if word not in stop_words]\n",
    "    \n",
    "    return tokens\n",
    "\n",
    "# Example usage\n",
    "sample_text = \"Hello, world! This is a test text to tokenize.\"\n",
    "tokens = tokenize_(sample_text)\n",
    "print(tokens)\n"
   ]
  },
  {
   "cell_type": "code",
   "execution_count": 23,
   "metadata": {},
   "outputs": [],
   "source": [
    "def tokenize(text):\n",
    "    text = re.sub(r\"[^a-zA-Z0-9]\", \" \", text.lower())\n",
    "    tokens = word_tokenize(text)\n",
    "    lemmatizer = WordNetLemmatizer()\n",
    "    \n",
    "    clean_tokens = []\n",
    "    for tok in tokens:\n",
    "        clean_tok = lemmatizer.lemmatize(tok).strip()\n",
    "        clean_tokens.append(clean_tok)\n",
    "    \n",
    "    return clean_tokens\n"
   ]
  },
  {
   "cell_type": "code",
   "execution_count": 22,
   "metadata": {},
   "outputs": [
    {
     "data": {
      "text/plain": [
       "['Hello',\n",
       " ',',\n",
       " 'world',\n",
       " '!',\n",
       " 'This',\n",
       " 'is',\n",
       " 'a',\n",
       " 'test',\n",
       " 'text',\n",
       " 'to',\n",
       " 'tokenize',\n",
       " '.']"
      ]
     },
     "execution_count": 22,
     "metadata": {},
     "output_type": "execute_result"
    }
   ],
   "source": [
    "tokenize(sample_text)"
   ]
  },
  {
   "cell_type": "markdown",
   "metadata": {},
   "source": [
    "### 3. Build a machine learning pipeline\n",
    "This machine pipeline should take in the `message` column as input and output classification results on the other 36 categories in the dataset. You may find the [MultiOutputClassifier](http://scikit-learn.org/stable/modules/generated/sklearn.multioutput.MultiOutputClassifier.html) helpful for predicting multiple target variables."
   ]
  },
  {
   "cell_type": "code",
   "execution_count": 20,
   "metadata": {},
   "outputs": [],
   "source": [
    "# Load your data\n",
    "# df = pd.read_csv('categories.csv')\n",
    "\n",
    "# Assume the first column is 'message' and the other columns are the categories\n",
    "X = df['message']\n",
    "Y = df.drop(['id', 'message', 'original', 'genre'], axis=1)\n"
   ]
  },
  {
   "cell_type": "code",
   "execution_count": 24,
   "metadata": {},
   "outputs": [],
   "source": [
    "pipeline = Pipeline([\n",
    "    ('vect', CountVectorizer(tokenizer=tokenize)),\n",
    "    ('tfidf', TfidfTransformer()),\n",
    "    ('clf', MultiOutputClassifier(RandomForestClassifier()))\n",
    "])\n"
   ]
  },
  {
   "cell_type": "code",
   "execution_count": 25,
   "metadata": {},
   "outputs": [],
   "source": [
    "X_train, X_test, Y_train, Y_test = train_test_split(X, Y, test_size=0.2, random_state=42)"
   ]
  },
  {
   "cell_type": "code",
   "execution_count": 26,
   "metadata": {},
   "outputs": [
    {
     "data": {
      "text/html": [
       "<style>#sk-container-id-1 {color: black;background-color: white;}#sk-container-id-1 pre{padding: 0;}#sk-container-id-1 div.sk-toggleable {background-color: white;}#sk-container-id-1 label.sk-toggleable__label {cursor: pointer;display: block;width: 100%;margin-bottom: 0;padding: 0.3em;box-sizing: border-box;text-align: center;}#sk-container-id-1 label.sk-toggleable__label-arrow:before {content: \"▸\";float: left;margin-right: 0.25em;color: #696969;}#sk-container-id-1 label.sk-toggleable__label-arrow:hover:before {color: black;}#sk-container-id-1 div.sk-estimator:hover label.sk-toggleable__label-arrow:before {color: black;}#sk-container-id-1 div.sk-toggleable__content {max-height: 0;max-width: 0;overflow: hidden;text-align: left;background-color: #f0f8ff;}#sk-container-id-1 div.sk-toggleable__content pre {margin: 0.2em;color: black;border-radius: 0.25em;background-color: #f0f8ff;}#sk-container-id-1 input.sk-toggleable__control:checked~div.sk-toggleable__content {max-height: 200px;max-width: 100%;overflow: auto;}#sk-container-id-1 input.sk-toggleable__control:checked~label.sk-toggleable__label-arrow:before {content: \"▾\";}#sk-container-id-1 div.sk-estimator input.sk-toggleable__control:checked~label.sk-toggleable__label {background-color: #d4ebff;}#sk-container-id-1 div.sk-label input.sk-toggleable__control:checked~label.sk-toggleable__label {background-color: #d4ebff;}#sk-container-id-1 input.sk-hidden--visually {border: 0;clip: rect(1px 1px 1px 1px);clip: rect(1px, 1px, 1px, 1px);height: 1px;margin: -1px;overflow: hidden;padding: 0;position: absolute;width: 1px;}#sk-container-id-1 div.sk-estimator {font-family: monospace;background-color: #f0f8ff;border: 1px dotted black;border-radius: 0.25em;box-sizing: border-box;margin-bottom: 0.5em;}#sk-container-id-1 div.sk-estimator:hover {background-color: #d4ebff;}#sk-container-id-1 div.sk-parallel-item::after {content: \"\";width: 100%;border-bottom: 1px solid gray;flex-grow: 1;}#sk-container-id-1 div.sk-label:hover label.sk-toggleable__label {background-color: #d4ebff;}#sk-container-id-1 div.sk-serial::before {content: \"\";position: absolute;border-left: 1px solid gray;box-sizing: border-box;top: 0;bottom: 0;left: 50%;z-index: 0;}#sk-container-id-1 div.sk-serial {display: flex;flex-direction: column;align-items: center;background-color: white;padding-right: 0.2em;padding-left: 0.2em;position: relative;}#sk-container-id-1 div.sk-item {position: relative;z-index: 1;}#sk-container-id-1 div.sk-parallel {display: flex;align-items: stretch;justify-content: center;background-color: white;position: relative;}#sk-container-id-1 div.sk-item::before, #sk-container-id-1 div.sk-parallel-item::before {content: \"\";position: absolute;border-left: 1px solid gray;box-sizing: border-box;top: 0;bottom: 0;left: 50%;z-index: -1;}#sk-container-id-1 div.sk-parallel-item {display: flex;flex-direction: column;z-index: 1;position: relative;background-color: white;}#sk-container-id-1 div.sk-parallel-item:first-child::after {align-self: flex-end;width: 50%;}#sk-container-id-1 div.sk-parallel-item:last-child::after {align-self: flex-start;width: 50%;}#sk-container-id-1 div.sk-parallel-item:only-child::after {width: 0;}#sk-container-id-1 div.sk-dashed-wrapped {border: 1px dashed gray;margin: 0 0.4em 0.5em 0.4em;box-sizing: border-box;padding-bottom: 0.4em;background-color: white;}#sk-container-id-1 div.sk-label label {font-family: monospace;font-weight: bold;display: inline-block;line-height: 1.2em;}#sk-container-id-1 div.sk-label-container {text-align: center;}#sk-container-id-1 div.sk-container {/* jupyter's `normalize.less` sets `[hidden] { display: none; }` but bootstrap.min.css set `[hidden] { display: none !important; }` so we also need the `!important` here to be able to override the default hidden behavior on the sphinx rendered scikit-learn.org. See: https://github.com/scikit-learn/scikit-learn/issues/21755 */display: inline-block !important;position: relative;}#sk-container-id-1 div.sk-text-repr-fallback {display: none;}</style><div id=\"sk-container-id-1\" class=\"sk-top-container\"><div class=\"sk-text-repr-fallback\"><pre>Pipeline(steps=[(&#x27;vect&#x27;,\n",
       "                 CountVectorizer(tokenizer=&lt;function tokenize at 0x7ffa88915670&gt;)),\n",
       "                (&#x27;tfidf&#x27;, TfidfTransformer()),\n",
       "                (&#x27;clf&#x27;,\n",
       "                 MultiOutputClassifier(estimator=RandomForestClassifier()))])</pre><b>In a Jupyter environment, please rerun this cell to show the HTML representation or trust the notebook. <br />On GitHub, the HTML representation is unable to render, please try loading this page with nbviewer.org.</b></div><div class=\"sk-container\" hidden><div class=\"sk-item sk-dashed-wrapped\"><div class=\"sk-label-container\"><div class=\"sk-label sk-toggleable\"><input class=\"sk-toggleable__control sk-hidden--visually\" id=\"sk-estimator-id-1\" type=\"checkbox\" ><label for=\"sk-estimator-id-1\" class=\"sk-toggleable__label sk-toggleable__label-arrow\">Pipeline</label><div class=\"sk-toggleable__content\"><pre>Pipeline(steps=[(&#x27;vect&#x27;,\n",
       "                 CountVectorizer(tokenizer=&lt;function tokenize at 0x7ffa88915670&gt;)),\n",
       "                (&#x27;tfidf&#x27;, TfidfTransformer()),\n",
       "                (&#x27;clf&#x27;,\n",
       "                 MultiOutputClassifier(estimator=RandomForestClassifier()))])</pre></div></div></div><div class=\"sk-serial\"><div class=\"sk-item\"><div class=\"sk-estimator sk-toggleable\"><input class=\"sk-toggleable__control sk-hidden--visually\" id=\"sk-estimator-id-2\" type=\"checkbox\" ><label for=\"sk-estimator-id-2\" class=\"sk-toggleable__label sk-toggleable__label-arrow\">CountVectorizer</label><div class=\"sk-toggleable__content\"><pre>CountVectorizer(tokenizer=&lt;function tokenize at 0x7ffa88915670&gt;)</pre></div></div></div><div class=\"sk-item\"><div class=\"sk-estimator sk-toggleable\"><input class=\"sk-toggleable__control sk-hidden--visually\" id=\"sk-estimator-id-3\" type=\"checkbox\" ><label for=\"sk-estimator-id-3\" class=\"sk-toggleable__label sk-toggleable__label-arrow\">TfidfTransformer</label><div class=\"sk-toggleable__content\"><pre>TfidfTransformer()</pre></div></div></div><div class=\"sk-item sk-dashed-wrapped\"><div class=\"sk-label-container\"><div class=\"sk-label sk-toggleable\"><input class=\"sk-toggleable__control sk-hidden--visually\" id=\"sk-estimator-id-4\" type=\"checkbox\" ><label for=\"sk-estimator-id-4\" class=\"sk-toggleable__label sk-toggleable__label-arrow\">clf: MultiOutputClassifier</label><div class=\"sk-toggleable__content\"><pre>MultiOutputClassifier(estimator=RandomForestClassifier())</pre></div></div></div><div class=\"sk-parallel\"><div class=\"sk-parallel-item\"><div class=\"sk-item\"><div class=\"sk-label-container\"><div class=\"sk-label sk-toggleable\"><input class=\"sk-toggleable__control sk-hidden--visually\" id=\"sk-estimator-id-5\" type=\"checkbox\" ><label for=\"sk-estimator-id-5\" class=\"sk-toggleable__label sk-toggleable__label-arrow\">estimator: RandomForestClassifier</label><div class=\"sk-toggleable__content\"><pre>RandomForestClassifier()</pre></div></div></div><div class=\"sk-serial\"><div class=\"sk-item\"><div class=\"sk-estimator sk-toggleable\"><input class=\"sk-toggleable__control sk-hidden--visually\" id=\"sk-estimator-id-6\" type=\"checkbox\" ><label for=\"sk-estimator-id-6\" class=\"sk-toggleable__label sk-toggleable__label-arrow\">RandomForestClassifier</label><div class=\"sk-toggleable__content\"><pre>RandomForestClassifier()</pre></div></div></div></div></div></div></div></div></div></div></div></div>"
      ],
      "text/plain": [
       "Pipeline(steps=[('vect',\n",
       "                 CountVectorizer(tokenizer=<function tokenize at 0x7ffa88915670>)),\n",
       "                ('tfidf', TfidfTransformer()),\n",
       "                ('clf',\n",
       "                 MultiOutputClassifier(estimator=RandomForestClassifier()))])"
      ]
     },
     "execution_count": 26,
     "metadata": {},
     "output_type": "execute_result"
    }
   ],
   "source": [
    "pipeline.fit(X_train, Y_train)"
   ]
  },
  {
   "cell_type": "code",
   "execution_count": 27,
   "metadata": {},
   "outputs": [
    {
     "name": "stdout",
     "output_type": "stream",
     "text": [
      "Category: related\n",
      "               precision    recall  f1-score   support\n",
      "\n",
      "   related-0       0.74      0.28      0.41      1266\n",
      "   related-1       0.80      0.97      0.88      3938\n",
      "   related-2       0.62      0.38      0.47        40\n",
      "\n",
      "    accuracy                           0.80      5244\n",
      "   macro avg       0.72      0.54      0.59      5244\n",
      "weighted avg       0.79      0.80      0.76      5244\n",
      "\n",
      "Category: request\n",
      "               precision    recall  f1-score   support\n",
      "\n",
      "   request-0       0.89      0.99      0.94      4349\n",
      "   request-1       0.88      0.43      0.58       895\n",
      "\n",
      "    accuracy                           0.89      5244\n",
      "   macro avg       0.89      0.71      0.76      5244\n",
      "weighted avg       0.89      0.89      0.88      5244\n",
      "\n"
     ]
    },
    {
     "name": "stderr",
     "output_type": "stream",
     "text": [
      "/home/masss001/.local/lib/python3.8/site-packages/sklearn/metrics/_classification.py:1334: UndefinedMetricWarning: Precision and F-score are ill-defined and being set to 0.0 in labels with no predicted samples. Use `zero_division` parameter to control this behavior.\n",
      "  _warn_prf(average, modifier, msg_start, len(result))\n",
      "/home/masss001/.local/lib/python3.8/site-packages/sklearn/metrics/_classification.py:1334: UndefinedMetricWarning: Precision and F-score are ill-defined and being set to 0.0 in labels with no predicted samples. Use `zero_division` parameter to control this behavior.\n",
      "  _warn_prf(average, modifier, msg_start, len(result))\n",
      "/home/masss001/.local/lib/python3.8/site-packages/sklearn/metrics/_classification.py:1334: UndefinedMetricWarning: Precision and F-score are ill-defined and being set to 0.0 in labels with no predicted samples. Use `zero_division` parameter to control this behavior.\n",
      "  _warn_prf(average, modifier, msg_start, len(result))\n"
     ]
    },
    {
     "name": "stdout",
     "output_type": "stream",
     "text": [
      "Category: offer\n",
      "               precision    recall  f1-score   support\n",
      "\n",
      "     offer-0       1.00      1.00      1.00      5218\n",
      "     offer-1       0.00      0.00      0.00        26\n",
      "\n",
      "    accuracy                           1.00      5244\n",
      "   macro avg       0.50      0.50      0.50      5244\n",
      "weighted avg       0.99      1.00      0.99      5244\n",
      "\n",
      "Category: aid_related\n",
      "                precision    recall  f1-score   support\n",
      "\n",
      "aid_related-0       0.78      0.88      0.83      3113\n",
      "aid_related-1       0.79      0.63      0.70      2131\n",
      "\n",
      "     accuracy                           0.78      5244\n",
      "    macro avg       0.78      0.76      0.76      5244\n",
      " weighted avg       0.78      0.78      0.77      5244\n",
      "\n",
      "Category: medical_help\n",
      "                 precision    recall  f1-score   support\n",
      "\n",
      "medical_help-0       0.92      1.00      0.96      4822\n",
      "medical_help-1       0.78      0.07      0.13       422\n",
      "\n",
      "      accuracy                           0.92      5244\n",
      "     macro avg       0.85      0.53      0.54      5244\n",
      "  weighted avg       0.91      0.92      0.89      5244\n",
      "\n",
      "Category: medical_products\n",
      "                     precision    recall  f1-score   support\n",
      "\n",
      "medical_products-0       0.95      1.00      0.97      4974\n",
      "medical_products-1       0.77      0.04      0.07       270\n",
      "\n",
      "          accuracy                           0.95      5244\n",
      "         macro avg       0.86      0.52      0.52      5244\n",
      "      weighted avg       0.94      0.95      0.93      5244\n",
      "\n",
      "Category: search_and_rescue\n",
      "                      precision    recall  f1-score   support\n",
      "\n",
      "search_and_rescue-0       0.98      1.00      0.99      5117\n",
      "search_and_rescue-1       0.69      0.07      0.13       127\n",
      "\n",
      "           accuracy                           0.98      5244\n",
      "          macro avg       0.83      0.54      0.56      5244\n",
      "       weighted avg       0.97      0.98      0.97      5244\n",
      "\n",
      "Category: security\n",
      "               precision    recall  f1-score   support\n",
      "\n",
      "  security-0       0.98      1.00      0.99      5156\n",
      "  security-1       0.33      0.01      0.02        88\n",
      "\n",
      "    accuracy                           0.98      5244\n",
      "   macro avg       0.66      0.51      0.51      5244\n",
      "weighted avg       0.97      0.98      0.98      5244\n",
      "\n",
      "Category: military\n",
      "               precision    recall  f1-score   support\n",
      "\n",
      "  military-0       0.97      1.00      0.99      5089\n",
      "  military-1       0.69      0.06      0.11       155\n",
      "\n",
      "    accuracy                           0.97      5244\n",
      "   macro avg       0.83      0.53      0.55      5244\n",
      "weighted avg       0.96      0.97      0.96      5244\n",
      "\n",
      "Category: child_alone\n",
      "                precision    recall  f1-score   support\n",
      "\n",
      "child_alone-0       1.00      1.00      1.00      5244\n",
      "\n",
      "     accuracy                           1.00      5244\n",
      "    macro avg       1.00      1.00      1.00      5244\n",
      " weighted avg       1.00      1.00      1.00      5244\n",
      "\n",
      "Category: water\n",
      "               precision    recall  f1-score   support\n",
      "\n",
      "     water-0       0.95      1.00      0.97      4905\n",
      "     water-1       0.89      0.26      0.41       339\n",
      "\n",
      "    accuracy                           0.95      5244\n",
      "   macro avg       0.92      0.63      0.69      5244\n",
      "weighted avg       0.95      0.95      0.94      5244\n",
      "\n",
      "Category: food\n",
      "               precision    recall  f1-score   support\n",
      "\n",
      "      food-0       0.93      0.99      0.96      4649\n",
      "      food-1       0.88      0.44      0.58       595\n",
      "\n",
      "    accuracy                           0.93      5244\n",
      "   macro avg       0.91      0.71      0.77      5244\n",
      "weighted avg       0.93      0.93      0.92      5244\n",
      "\n",
      "Category: shelter\n",
      "               precision    recall  f1-score   support\n",
      "\n",
      "   shelter-0       0.93      1.00      0.96      4774\n",
      "   shelter-1       0.83      0.20      0.33       470\n",
      "\n",
      "    accuracy                           0.93      5244\n",
      "   macro avg       0.88      0.60      0.64      5244\n",
      "weighted avg       0.92      0.93      0.90      5244\n",
      "\n",
      "Category: clothing\n",
      "               precision    recall  f1-score   support\n",
      "\n",
      "  clothing-0       0.99      1.00      0.99      5171\n",
      "  clothing-1       1.00      0.10      0.17        73\n",
      "\n",
      "    accuracy                           0.99      5244\n",
      "   macro avg       0.99      0.55      0.58      5244\n",
      "weighted avg       0.99      0.99      0.98      5244\n",
      "\n",
      "Category: money\n",
      "               precision    recall  f1-score   support\n",
      "\n",
      "     money-0       0.98      1.00      0.99      5140\n",
      "     money-1       0.89      0.08      0.14       104\n",
      "\n",
      "    accuracy                           0.98      5244\n",
      "   macro avg       0.94      0.54      0.57      5244\n",
      "weighted avg       0.98      0.98      0.97      5244\n",
      "\n"
     ]
    },
    {
     "name": "stderr",
     "output_type": "stream",
     "text": [
      "/home/masss001/.local/lib/python3.8/site-packages/sklearn/metrics/_classification.py:1334: UndefinedMetricWarning: Precision and F-score are ill-defined and being set to 0.0 in labels with no predicted samples. Use `zero_division` parameter to control this behavior.\n",
      "  _warn_prf(average, modifier, msg_start, len(result))\n",
      "/home/masss001/.local/lib/python3.8/site-packages/sklearn/metrics/_classification.py:1334: UndefinedMetricWarning: Precision and F-score are ill-defined and being set to 0.0 in labels with no predicted samples. Use `zero_division` parameter to control this behavior.\n",
      "  _warn_prf(average, modifier, msg_start, len(result))\n",
      "/home/masss001/.local/lib/python3.8/site-packages/sklearn/metrics/_classification.py:1334: UndefinedMetricWarning: Precision and F-score are ill-defined and being set to 0.0 in labels with no predicted samples. Use `zero_division` parameter to control this behavior.\n",
      "  _warn_prf(average, modifier, msg_start, len(result))\n"
     ]
    },
    {
     "name": "stdout",
     "output_type": "stream",
     "text": [
      "Category: missing_people\n",
      "                   precision    recall  f1-score   support\n",
      "\n",
      "missing_people-0       0.99      1.00      0.99      5184\n",
      "missing_people-1       0.00      0.00      0.00        60\n",
      "\n",
      "        accuracy                           0.99      5244\n",
      "       macro avg       0.49      0.50      0.50      5244\n",
      "    weighted avg       0.98      0.99      0.98      5244\n",
      "\n"
     ]
    },
    {
     "name": "stderr",
     "output_type": "stream",
     "text": [
      "/home/masss001/.local/lib/python3.8/site-packages/sklearn/metrics/_classification.py:1334: UndefinedMetricWarning: Precision and F-score are ill-defined and being set to 0.0 in labels with no predicted samples. Use `zero_division` parameter to control this behavior.\n",
      "  _warn_prf(average, modifier, msg_start, len(result))\n",
      "/home/masss001/.local/lib/python3.8/site-packages/sklearn/metrics/_classification.py:1334: UndefinedMetricWarning: Precision and F-score are ill-defined and being set to 0.0 in labels with no predicted samples. Use `zero_division` parameter to control this behavior.\n",
      "  _warn_prf(average, modifier, msg_start, len(result))\n",
      "/home/masss001/.local/lib/python3.8/site-packages/sklearn/metrics/_classification.py:1334: UndefinedMetricWarning: Precision and F-score are ill-defined and being set to 0.0 in labels with no predicted samples. Use `zero_division` parameter to control this behavior.\n",
      "  _warn_prf(average, modifier, msg_start, len(result))\n"
     ]
    },
    {
     "name": "stdout",
     "output_type": "stream",
     "text": [
      "Category: refugees\n",
      "               precision    recall  f1-score   support\n",
      "\n",
      "  refugees-0       0.97      1.00      0.98      5073\n",
      "  refugees-1       0.00      0.00      0.00       171\n",
      "\n",
      "    accuracy                           0.97      5244\n",
      "   macro avg       0.48      0.50      0.49      5244\n",
      "weighted avg       0.94      0.97      0.95      5244\n",
      "\n",
      "Category: death\n",
      "               precision    recall  f1-score   support\n",
      "\n",
      "     death-0       0.96      1.00      0.98      5007\n",
      "     death-1       0.86      0.11      0.19       237\n",
      "\n",
      "    accuracy                           0.96      5244\n",
      "   macro avg       0.91      0.55      0.58      5244\n",
      "weighted avg       0.95      0.96      0.94      5244\n",
      "\n",
      "Category: other_aid\n",
      "               precision    recall  f1-score   support\n",
      "\n",
      " other_aid-0       0.87      1.00      0.93      4549\n",
      " other_aid-1       0.68      0.02      0.04       695\n",
      "\n",
      "    accuracy                           0.87      5244\n",
      "   macro avg       0.78      0.51      0.48      5244\n",
      "weighted avg       0.84      0.87      0.81      5244\n",
      "\n",
      "Category: infrastructure_related\n",
      "                           precision    recall  f1-score   support\n",
      "\n",
      "infrastructure_related-0       0.94      1.00      0.97      4916\n",
      "infrastructure_related-1       0.00      0.00      0.00       328\n",
      "\n",
      "                accuracy                           0.94      5244\n",
      "               macro avg       0.47      0.50      0.48      5244\n",
      "            weighted avg       0.88      0.94      0.91      5244\n",
      "\n",
      "Category: transport\n",
      "               precision    recall  f1-score   support\n",
      "\n",
      " transport-0       0.96      1.00      0.98      5004\n",
      " transport-1       0.75      0.07      0.14       240\n",
      "\n",
      "    accuracy                           0.96      5244\n",
      "   macro avg       0.85      0.54      0.56      5244\n",
      "weighted avg       0.95      0.96      0.94      5244\n",
      "\n",
      "Category: buildings\n",
      "               precision    recall  f1-score   support\n",
      "\n",
      " buildings-0       0.95      1.00      0.97      4977\n",
      " buildings-1       0.85      0.04      0.08       267\n",
      "\n",
      "    accuracy                           0.95      5244\n",
      "   macro avg       0.90      0.52      0.53      5244\n",
      "weighted avg       0.95      0.95      0.93      5244\n",
      "\n",
      "Category: electricity\n",
      "                precision    recall  f1-score   support\n",
      "\n",
      "electricity-0       0.98      1.00      0.99      5122\n",
      "electricity-1       1.00      0.02      0.05       122\n",
      "\n",
      "     accuracy                           0.98      5244\n",
      "    macro avg       0.99      0.51      0.52      5244\n",
      " weighted avg       0.98      0.98      0.97      5244\n",
      "\n"
     ]
    },
    {
     "name": "stderr",
     "output_type": "stream",
     "text": [
      "/home/masss001/.local/lib/python3.8/site-packages/sklearn/metrics/_classification.py:1334: UndefinedMetricWarning: Precision and F-score are ill-defined and being set to 0.0 in labels with no predicted samples. Use `zero_division` parameter to control this behavior.\n",
      "  _warn_prf(average, modifier, msg_start, len(result))\n",
      "/home/masss001/.local/lib/python3.8/site-packages/sklearn/metrics/_classification.py:1334: UndefinedMetricWarning: Precision and F-score are ill-defined and being set to 0.0 in labels with no predicted samples. Use `zero_division` parameter to control this behavior.\n",
      "  _warn_prf(average, modifier, msg_start, len(result))\n",
      "/home/masss001/.local/lib/python3.8/site-packages/sklearn/metrics/_classification.py:1334: UndefinedMetricWarning: Precision and F-score are ill-defined and being set to 0.0 in labels with no predicted samples. Use `zero_division` parameter to control this behavior.\n",
      "  _warn_prf(average, modifier, msg_start, len(result))\n"
     ]
    },
    {
     "name": "stdout",
     "output_type": "stream",
     "text": [
      "Category: tools\n",
      "               precision    recall  f1-score   support\n",
      "\n",
      "     tools-0       0.99      1.00      1.00      5212\n",
      "     tools-1       0.00      0.00      0.00        32\n",
      "\n",
      "    accuracy                           0.99      5244\n",
      "   macro avg       0.50      0.50      0.50      5244\n",
      "weighted avg       0.99      0.99      0.99      5244\n",
      "\n",
      "Category: hospitals\n",
      "               precision    recall  f1-score   support\n",
      "\n",
      " hospitals-0       0.99      1.00      1.00      5198\n",
      " hospitals-1       0.00      0.00      0.00        46\n",
      "\n",
      "    accuracy                           0.99      5244\n",
      "   macro avg       0.50      0.50      0.50      5244\n",
      "weighted avg       0.98      0.99      0.99      5244\n",
      "\n"
     ]
    },
    {
     "name": "stderr",
     "output_type": "stream",
     "text": [
      "/home/masss001/.local/lib/python3.8/site-packages/sklearn/metrics/_classification.py:1334: UndefinedMetricWarning: Precision and F-score are ill-defined and being set to 0.0 in labels with no predicted samples. Use `zero_division` parameter to control this behavior.\n",
      "  _warn_prf(average, modifier, msg_start, len(result))\n",
      "/home/masss001/.local/lib/python3.8/site-packages/sklearn/metrics/_classification.py:1334: UndefinedMetricWarning: Precision and F-score are ill-defined and being set to 0.0 in labels with no predicted samples. Use `zero_division` parameter to control this behavior.\n",
      "  _warn_prf(average, modifier, msg_start, len(result))\n",
      "/home/masss001/.local/lib/python3.8/site-packages/sklearn/metrics/_classification.py:1334: UndefinedMetricWarning: Precision and F-score are ill-defined and being set to 0.0 in labels with no predicted samples. Use `zero_division` parameter to control this behavior.\n",
      "  _warn_prf(average, modifier, msg_start, len(result))\n",
      "/home/masss001/.local/lib/python3.8/site-packages/sklearn/metrics/_classification.py:1334: UndefinedMetricWarning: Precision and F-score are ill-defined and being set to 0.0 in labels with no predicted samples. Use `zero_division` parameter to control this behavior.\n",
      "  _warn_prf(average, modifier, msg_start, len(result))\n",
      "/home/masss001/.local/lib/python3.8/site-packages/sklearn/metrics/_classification.py:1334: UndefinedMetricWarning: Precision and F-score are ill-defined and being set to 0.0 in labels with no predicted samples. Use `zero_division` parameter to control this behavior.\n",
      "  _warn_prf(average, modifier, msg_start, len(result))\n",
      "/home/masss001/.local/lib/python3.8/site-packages/sklearn/metrics/_classification.py:1334: UndefinedMetricWarning: Precision and F-score are ill-defined and being set to 0.0 in labels with no predicted samples. Use `zero_division` parameter to control this behavior.\n",
      "  _warn_prf(average, modifier, msg_start, len(result))\n",
      "/home/masss001/.local/lib/python3.8/site-packages/sklearn/metrics/_classification.py:1334: UndefinedMetricWarning: Precision and F-score are ill-defined and being set to 0.0 in labels with no predicted samples. Use `zero_division` parameter to control this behavior.\n",
      "  _warn_prf(average, modifier, msg_start, len(result))\n"
     ]
    },
    {
     "name": "stdout",
     "output_type": "stream",
     "text": [
      "Category: shops\n",
      "               precision    recall  f1-score   support\n",
      "\n",
      "     shops-0       1.00      1.00      1.00      5222\n",
      "     shops-1       0.00      0.00      0.00        22\n",
      "\n",
      "    accuracy                           1.00      5244\n",
      "   macro avg       0.50      0.50      0.50      5244\n",
      "weighted avg       0.99      1.00      0.99      5244\n",
      "\n",
      "Category: aid_centers\n",
      "                precision    recall  f1-score   support\n",
      "\n",
      "aid_centers-0       0.99      1.00      0.99      5177\n",
      "aid_centers-1       0.00      0.00      0.00        67\n",
      "\n",
      "     accuracy                           0.99      5244\n",
      "    macro avg       0.49      0.50      0.50      5244\n",
      " weighted avg       0.97      0.99      0.98      5244\n",
      "\n"
     ]
    },
    {
     "name": "stderr",
     "output_type": "stream",
     "text": [
      "/home/masss001/.local/lib/python3.8/site-packages/sklearn/metrics/_classification.py:1334: UndefinedMetricWarning: Precision and F-score are ill-defined and being set to 0.0 in labels with no predicted samples. Use `zero_division` parameter to control this behavior.\n",
      "  _warn_prf(average, modifier, msg_start, len(result))\n",
      "/home/masss001/.local/lib/python3.8/site-packages/sklearn/metrics/_classification.py:1334: UndefinedMetricWarning: Precision and F-score are ill-defined and being set to 0.0 in labels with no predicted samples. Use `zero_division` parameter to control this behavior.\n",
      "  _warn_prf(average, modifier, msg_start, len(result))\n"
     ]
    },
    {
     "name": "stdout",
     "output_type": "stream",
     "text": [
      "Category: other_infrastructure\n",
      "                         precision    recall  f1-score   support\n",
      "\n",
      "other_infrastructure-0       0.96      1.00      0.98      5021\n",
      "other_infrastructure-1       0.00      0.00      0.00       223\n",
      "\n",
      "              accuracy                           0.96      5244\n",
      "             macro avg       0.48      0.50      0.49      5244\n",
      "          weighted avg       0.92      0.96      0.94      5244\n",
      "\n",
      "Category: weather_related\n",
      "                    precision    recall  f1-score   support\n",
      "\n",
      "weather_related-0       0.88      0.96      0.91      3806\n",
      "weather_related-1       0.85      0.64      0.73      1438\n",
      "\n",
      "         accuracy                           0.87      5244\n",
      "        macro avg       0.86      0.80      0.82      5244\n",
      "     weighted avg       0.87      0.87      0.86      5244\n",
      "\n",
      "Category: floods\n",
      "               precision    recall  f1-score   support\n",
      "\n",
      "    floods-0       0.95      1.00      0.97      4833\n",
      "    floods-1       0.90      0.45      0.60       411\n",
      "\n",
      "    accuracy                           0.95      5244\n",
      "   macro avg       0.93      0.72      0.79      5244\n",
      "weighted avg       0.95      0.95      0.95      5244\n",
      "\n",
      "Category: storm\n",
      "               precision    recall  f1-score   support\n",
      "\n",
      "     storm-0       0.95      0.98      0.97      4758\n",
      "     storm-1       0.77      0.50      0.61       486\n",
      "\n",
      "    accuracy                           0.94      5244\n",
      "   macro avg       0.86      0.74      0.79      5244\n",
      "weighted avg       0.93      0.94      0.93      5244\n",
      "\n",
      "Category: fire\n",
      "               precision    recall  f1-score   support\n",
      "\n",
      "      fire-0       0.99      1.00      0.99      5191\n",
      "      fire-1       0.00      0.00      0.00        53\n",
      "\n",
      "    accuracy                           0.99      5244\n",
      "   macro avg       0.49      0.50      0.50      5244\n",
      "weighted avg       0.98      0.99      0.98      5244\n",
      "\n",
      "Category: earthquake\n",
      "               precision    recall  f1-score   support\n",
      "\n",
      "earthquake-0       0.98      0.99      0.98      4766\n",
      "earthquake-1       0.87      0.75      0.81       478\n",
      "\n",
      "    accuracy                           0.97      5244\n",
      "   macro avg       0.92      0.87      0.89      5244\n",
      "weighted avg       0.97      0.97      0.97      5244\n",
      "\n",
      "Category: cold\n",
      "               precision    recall  f1-score   support\n",
      "\n",
      "      cold-0       0.98      1.00      0.99      5127\n",
      "      cold-1       0.71      0.04      0.08       117\n",
      "\n",
      "    accuracy                           0.98      5244\n",
      "   macro avg       0.85      0.52      0.53      5244\n",
      "weighted avg       0.97      0.98      0.97      5244\n",
      "\n",
      "Category: other_weather\n",
      "                  precision    recall  f1-score   support\n",
      "\n",
      "other_weather-0       0.95      1.00      0.97      4968\n",
      "other_weather-1       1.00      0.01      0.02       276\n",
      "\n",
      "       accuracy                           0.95      5244\n",
      "      macro avg       0.97      0.51      0.50      5244\n",
      "   weighted avg       0.95      0.95      0.92      5244\n",
      "\n",
      "Category: direct_report\n",
      "                  precision    recall  f1-score   support\n",
      "\n",
      "direct_report-0       0.86      0.98      0.92      4223\n",
      "direct_report-1       0.85      0.34      0.49      1021\n",
      "\n",
      "       accuracy                           0.86      5244\n",
      "      macro avg       0.85      0.66      0.70      5244\n",
      "   weighted avg       0.86      0.86      0.84      5244\n",
      "\n"
     ]
    }
   ],
   "source": [
    "Y_pred = pipeline.predict(X_test)\n",
    "\n",
    "# Print classification report for each column\n",
    "for i, col in enumerate(Y.columns):\n",
    "    print(f'Category: {col}\\n', classification_report(Y_test[col], Y_pred[:, i]))"
   ]
  },
  {
   "cell_type": "code",
   "execution_count": null,
   "metadata": {},
   "outputs": [],
   "source": []
  },
  {
   "cell_type": "markdown",
   "metadata": {},
   "source": [
    "# ---------------------------------------------------------------------"
   ]
  },
  {
   "cell_type": "code",
   "execution_count": null,
   "metadata": {},
   "outputs": [],
   "source": [
    "def build_model():\n",
    "    pipeline = Pipeline([\n",
    "        ('vect', CountVectorizer(tokenizer=tokenize)),\n",
    "        ('tfidf', TfidfTransformer()),\n",
    "        ('clf', MultiOutputClassifier(RandomForestClassifier()))\n",
    "    ])\n",
    "    \n",
    "    parameters = {\n",
    "        'clf__estimator__n_estimators': [50, 100],\n",
    "        'clf__estimator__min_samples_split': [2, 4]\n",
    "    }\n",
    "    \n",
    "    cv = GridSearchCV(pipeline, param_grid=parameters)\n",
    "    \n",
    "    return cv\n",
    "model=build_model()\n",
    "model.fit(X_train, Y_train)"
   ]
  },
  {
   "cell_type": "code",
   "execution_count": 31,
   "metadata": {},
   "outputs": [],
   "source": [
    "def evaluate_model(model, X_test, Y_test, category_names):\n",
    "    Y_pred = model.predict(X_test)\n",
    "    for i in range(len(category_names)):\n",
    "        print(f\"Category: {category_names[i]}\\n\", classification_report(Y_test.iloc[:, i], Y_pred[:, i]))\n"
   ]
  },
  {
   "cell_type": "code",
   "execution_count": null,
   "metadata": {},
   "outputs": [],
   "source": [
    "# pipeline = "
   ]
  },
  {
   "cell_type": "markdown",
   "metadata": {},
   "source": [
    "### 4. Train pipeline\n",
    "- Split data into train and test sets\n",
    "- Train pipeline"
   ]
  },
  {
   "cell_type": "code",
   "execution_count": null,
   "metadata": {},
   "outputs": [],
   "source": []
  },
  {
   "cell_type": "markdown",
   "metadata": {},
   "source": [
    "### 5. Test your model\n",
    "Report the f1 score, precision and recall for each output category of the dataset. You can do this by iterating through the columns and calling sklearn's `classification_report` on each."
   ]
  },
  {
   "cell_type": "code",
   "execution_count": null,
   "metadata": {},
   "outputs": [],
   "source": []
  },
  {
   "cell_type": "markdown",
   "metadata": {},
   "source": [
    "### 6. Improve your model\n",
    "Use grid search to find better parameters. "
   ]
  },
  {
   "cell_type": "code",
   "execution_count": null,
   "metadata": {},
   "outputs": [],
   "source": [
    "parameters = \n",
    "\n",
    "cv = "
   ]
  },
  {
   "cell_type": "markdown",
   "metadata": {},
   "source": [
    "### 7. Test your model\n",
    "Show the accuracy, precision, and recall of the tuned model.  \n",
    "\n",
    "Since this project focuses on code quality, process, and  pipelines, there is no minimum performance metric needed to pass. However, make sure to fine tune your models for accuracy, precision and recall to make your project stand out - especially for your portfolio!"
   ]
  },
  {
   "cell_type": "code",
   "execution_count": null,
   "metadata": {},
   "outputs": [],
   "source": []
  },
  {
   "cell_type": "markdown",
   "metadata": {},
   "source": [
    "### 8. Try improving your model further. Here are a few ideas:\n",
    "* try other machine learning algorithms\n",
    "* add other features besides the TF-IDF"
   ]
  },
  {
   "cell_type": "code",
   "execution_count": null,
   "metadata": {},
   "outputs": [],
   "source": []
  },
  {
   "cell_type": "markdown",
   "metadata": {},
   "source": [
    "### 9. Export your model as a pickle file"
   ]
  },
  {
   "cell_type": "code",
   "execution_count": null,
   "metadata": {},
   "outputs": [],
   "source": []
  },
  {
   "cell_type": "markdown",
   "metadata": {},
   "source": [
    "### 10. Use this notebook to complete `train_classifier.py`\n",
    "Use the template file attached in the Resources folder to write a script that runs the steps above to create a database and export a model based on a new dataset specified by the user."
   ]
  },
  {
   "cell_type": "code",
   "execution_count": null,
   "metadata": {},
   "outputs": [],
   "source": []
  }
 ],
 "metadata": {
  "kernelspec": {
   "display_name": "Python 3",
   "language": "python",
   "name": "python3"
  },
  "language_info": {
   "codemirror_mode": {
    "name": "ipython",
    "version": 3
   },
   "file_extension": ".py",
   "mimetype": "text/x-python",
   "name": "python",
   "nbconvert_exporter": "python",
   "pygments_lexer": "ipython3",
   "version": "3.8.8"
  }
 },
 "nbformat": 4,
 "nbformat_minor": 2
}
